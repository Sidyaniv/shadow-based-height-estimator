{
 "cells": [
  {
   "cell_type": "code",
   "execution_count": 9,
   "metadata": {},
   "outputs": [],
   "source": [
    "import matplotlib.pyplot as plt\n",
    "from scipy.ndimage import rotate\n",
    "from src.shadow_height_estimator import (rotate_shawdows_points,\n",
    "                                        rotate_buildings_points,\n",
    "                                        take_indices_shadows,\n",
    "                                        attach_heights\n",
    "                                        )\n",
    "from src.utils_for_estimate import (get_points,\n",
    "                                    find_heights_and_shadows,\n",
    "                                    get_image_center\n",
    "                                    )\n",
    "\n",
    "from src.annotations.annotation import ann_and_images\n",
    "import numpy as np"
   ]
  },
  {
   "cell_type": "code",
   "execution_count": 10,
   "metadata": {},
   "outputs": [],
   "source": [
    "dataset_dir = '../shared_data/SatelliteTo3D-Datasets/3d_tools_dataset/'\n",
    "annot_file = dataset_dir + 'annotations/instances_default.json'\n",
    "images_directory = dataset_dir + 'image_png/'\n",
    "image_directory = dataset_dir + 'image_png/test_1.png'"
   ]
  },
  {
   "cell_type": "code",
   "execution_count": 11,
   "metadata": {},
   "outputs": [],
   "source": [
    "SCALE = np.float16(0.1)\n",
    "SUN_AZIMUTH_ANGLE = np.uint8(100)\n",
    "ROTATE_ANGLE = 360.0 - (SUN_AZIMUTH_ANGLE + 90.0)\n",
    "SUN_ELEVATION_ANGLE = np.uint8(30)\n",
    "THRESHOLD = np.uint8(7)\n",
    "BROWN = (np.uint8(128), np.uint8(64), np.uint8(48))\n",
    "BLUE = (np.uint8(0), np.uint8(0), np.uint8(255))\n",
    "COLORS = np.array([BROWN, BLUE])"
   ]
  },
  {
   "cell_type": "code",
   "execution_count": 12,
   "metadata": {},
   "outputs": [
    {
     "name": "stdout",
     "output_type": "stream",
     "text": [
      "loading annotations into memory...\n",
      "Done (t=0.00s)\n",
      "creating index...\n",
      "index created!\n",
      "{3: [(3821.73, 2070.16), (3981.04, 2191.22), (3997.69, 2162.68), (4072.77, 2030.89), (4065.56, 2026.64), (4078.68, 2006.14), (4091.63, 2008.16), (4113.59, 1969.54), (4111.94, 1960.7), (4106.71, 1957.1), (4164.42, 1856.43), (4169.24, 1859.88), (4224.31, 1761.89), (4225.91, 1752.42), (4223.09, 1746.55), (4269.3, 1667.38), (4310.48, 1689.49), (4344.12, 1629.53), (4353.8, 1603.32), (4281.8, 1562.6), (4286.51, 1552.86), (4221.54, 1516.66), (4216.6, 1527.03), (4141.4, 1485.54), (4070.1, 1616.5), (4073.29, 1619.25), (4075.62, 1614.02), (4078.86, 1615.54), (4004.81, 1743.03), (3998.2, 1739.48), (3948.91, 1831.93), (3956.94, 1833.78), (3922.02, 1898.9), (3915.82, 1892.1), (3867.81, 1978.91), (3841.64, 2021.44), (3835.11, 2036.77)], 4: [(3001.47, 3295.53), (2949.4, 3364.68), (3225.33, 3466.66)], 5: [(3360.43, 2906.23), (3218.39, 3100.98), (3497.19, 3312.47), (3637.71, 3120.5)], 6: [(4057.93, 2218.81), (4214.96, 2348.35), (4222.1, 2343.21), (4468.78, 1675.73), (4460.98, 1669.38), (4413.8, 1723.87), (4406.07, 1748.1), (4430.71, 1764.17), (4369.08, 1838.81), (4366.4, 1839.1), (4301.71, 1915.18), (4303.49, 1918.03), (4204.46, 2036.15), (4151.35, 2100.59), (4147.75, 2098.3), (4068.89, 2192.0)], 8: [(3778.44, 3293.36), (3555.89, 3588.82), (3737.03, 3655.77), (3851.13, 3347.03), (3781.41, 3292.65)], 9: [(3532.52, 2689.82), (3814.38, 2901.56), (3670.71, 3097.82), (3385.93, 2880.09), (3512.0, 2714.71)], 12: [(3705.4, 2405.89), (3878.89, 2177.58), (4195.21, 2415.98), (4094.1, 2689.58)], 13: [(3529.2, 2684.86), (3645.86, 2534.84), (3787.3, 2649.29), (3856.97, 2558.97), (4080.52, 2726.32), (3968.5, 3029.43), (3815.3, 2909.9), (3814.38, 2901.56), (3532.52, 2689.82), (3528.87, 2686.1)]}\n"
     ]
    }
   ],
   "source": [
    "images, anns = ann_and_images(coco_annotation_file=annot_file, images_directory=images_directory)\n",
    "# print(anns)\n",
    "\n",
    "shawdows_points = get_points(anns)[0]\n",
    "bui_points = get_points(anns)[1]\n",
    "# print(bui_points)\n",
    "c = get_image_center(image_directory)\n",
    "\n",
    "p = rotate_shawdows_points(shawdows_points, c, ROTATE_ANGLE)\n",
    "l = rotate_buildings_points(bui_points, c, ROTATE_ANGLE)      \n",
    "\n",
    "\n",
    "\n",
    "print(l)\n"
   ]
  },
  {
   "cell_type": "code",
   "execution_count": 13,
   "metadata": {},
   "outputs": [],
   "source": [
    "\n",
    "# # list of rotated masks shadows + buildings\n",
    "# rotated_masks = rotate_masks(anns, ROTATE_ANGLE)\n",
    "\n",
    "# # dict of heights {index of shadow: estimated height}\n",
    "# building_heights = estimate_building_heights(anns, SUN_AZIMUTH_ANGLE, SCALE, SUN_ELEVATION_ANGLE)\n",
    "# print('building_heights', building_heights)\n",
    "\n",
    "# # dict {index of shadow: (max(y), mean(x))}\n",
    "# indices_shadows = take_indices_shadows(rotated_masks)\n",
    "# print('indices_shadows', indices_shadows)\n",
    "\n",
    "# # dict {'building_heights': {index of building: [estimated heights]}, 'building_shadow': {index of building: [indices of shadows]}}\n",
    "# building_heights_shadows = attach_heights(rotated_masks, building_heights, indices_shadows, THRESHOLD)\n",
    "# print('building_heights_shadows', building_heights_shadows)\n",
    "\n",
    "# result_dict = {}\n",
    "# for idx_building, heights in building_heights_shadows['building_heights'].items():\n",
    "#     result_dict[idx_building] = {'mask': masks[idx_building], 'heights': heights}\n",
    "\n",
    "# print('result_dict', result_dict)"
   ]
  },
  {
   "cell_type": "code",
   "execution_count": 14,
   "metadata": {},
   "outputs": [],
   "source": [
    "# hyperparameters = {'masks': masks,\n",
    "#                 'sun_azimuth_angle': SUN_AZIMUTH_ANGLE,\n",
    "#                 'scale': SCALE,\n",
    "#                 'sun_elevation_angle': SUN_ELEVATION_ANGLE,\n",
    "#                 'threshold': THRESHOLD\n",
    "#                 }"
   ]
  },
  {
   "cell_type": "code",
   "execution_count": 15,
   "metadata": {},
   "outputs": [],
   "source": [
    "# build_info = buildings_info(hyperparameters)\n",
    "# print(build_info)"
   ]
  },
  {
   "cell_type": "code",
   "execution_count": 16,
   "metadata": {},
   "outputs": [],
   "source": [
    "# sample_segment = draw_sample_building_shadow(rotated_image, rotated_masks, building_heights_shadows['building_shadow'], COLORS)\n",
    "\n",
    "# fig, ax = plt.subplots(ncols=1, nrows=1, figsize=(10,10))\n",
    "\n",
    "# ax.imshow(sample_segment)\n",
    "# ax.set_title('brown: buildings, blue: shadows (sample of building+shadow)')\n",
    "# ax.set_axis_off()\n",
    "\n",
    "# plt.show()"
   ]
  }
 ],
 "metadata": {
  "kernelspec": {
   "display_name": "Python 3 (ipykernel)",
   "language": "python",
   "name": "python3"
  },
  "language_info": {
   "codemirror_mode": {
    "name": "ipython",
    "version": 3
   },
   "file_extension": ".py",
   "mimetype": "text/x-python",
   "name": "python",
   "nbconvert_exporter": "python",
   "pygments_lexer": "ipython3",
   "version": "3.11.8"
  }
 },
 "nbformat": 4,
 "nbformat_minor": 4
}
