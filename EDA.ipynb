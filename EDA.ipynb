{
 "cells": [
  {
   "cell_type": "code",
   "execution_count": 15,
   "metadata": {},
   "outputs": [],
   "source": [
    "import matplotlib.pyplot as plt\n",
    "from scipy.ndimage import rotate\n",
    "from src.shadow_height_estimator import (estimate_building_heights,\n",
    "                                        rotate_masks,\n",
    "                                        take_indices_shadows,\n",
    "                                        attach_heights, \n",
    "                                        buildings_info,\n",
    "                                        )\n",
    "from src.visualization_masks import (draw_masks,\n",
    "                                    draw_random_masks,\n",
    "                                    draw_sample_building_shadow,\n",
    "                                    )\n",
    "from src.coco2masks.coco2masks import coco2masks\n",
    "import numpy as np"
   ]
  },
  {
   "cell_type": "code",
   "execution_count": 16,
   "metadata": {},
   "outputs": [],
   "source": [
    "dataset_dir = '../shared_data/SatelliteTo3D-Datasets/3d_tools_dataset/'\n",
    "annot_file = dataset_dir + 'annotations/instances_default.json'\n",
    "images_directory = dataset_dir + 'image_png/'"
   ]
  },
  {
   "cell_type": "code",
   "execution_count": 17,
   "metadata": {},
   "outputs": [],
   "source": [
    "SCALE = np.float16(0.1)\n",
    "SUN_AZIMUTH_ANGLE = np.uint8(100)\n",
    "SUN_ELEVATION_ANGLE = np.uint8(30)\n",
    "ROTATE_ANGLE = SUN_AZIMUTH_ANGLE - 180\n",
    "THRESHOLD = np.uint8(7)\n",
    "BROWN = (np.uint8(128), np.uint8(64), np.uint8(48))\n",
    "BLUE = (np.uint8(0), np.uint8(0), np.uint8(255))\n",
    "COLORS = np.array([BROWN, BLUE])"
   ]
  },
  {
   "cell_type": "code",
   "execution_count": 18,
   "metadata": {},
   "outputs": [
    {
     "name": "stdout",
     "output_type": "stream",
     "text": [
      "loading annotations into memory...\n",
      "Done (t=0.00s)\n",
      "creating index...\n",
      "index created!\n",
      "[[[255 255 255]\n",
      "  [255 255 255]\n",
      "  [255 255 255]\n",
      "  ...\n",
      "  [255 255 255]\n",
      "  [255 255 255]\n",
      "  [255 255 255]]\n",
      "\n",
      " [[255 255 255]\n",
      "  [255 255 255]\n",
      "  [255 255 255]\n",
      "  ...\n",
      "  [255 255 255]\n",
      "  [255 255 255]\n",
      "  [255 255 255]]\n",
      "\n",
      " [[255 255 255]\n",
      "  [255 255 255]\n",
      "  [255 255 255]\n",
      "  ...\n",
      "  [255 255 255]\n",
      "  [255 255 255]\n",
      "  [255 255 255]]\n",
      "\n",
      " ...\n",
      "\n",
      " [[255 255 255]\n",
      "  [255 255 255]\n",
      "  [255 255 255]\n",
      "  ...\n",
      "  [255 255 255]\n",
      "  [255 255 255]\n",
      "  [255 255 255]]\n",
      "\n",
      " [[255 255 255]\n",
      "  [255 255 255]\n",
      "  [255 255 255]\n",
      "  ...\n",
      "  [255 255 255]\n",
      "  [255 255 255]\n",
      "  [255 255 255]]\n",
      "\n",
      " [[255 255 255]\n",
      "  [255 255 255]\n",
      "  [255 255 255]\n",
      "  ...\n",
      "  [255 255 255]\n",
      "  [255 255 255]\n",
      "  [255 255 255]]]\n"
     ]
    }
   ],
   "source": [
    "images, masks = coco2masks(coco_annotation_file=annot_file, images_directory=images_directory)\n",
    "print(images[0])"
   ]
  },
  {
   "cell_type": "code",
   "execution_count": 19,
   "metadata": {},
   "outputs": [],
   "source": [
    "# segment = draw_masks(image[0], masks, COLORS)\n",
    "# random_segment = draw_random_masks(image[0], masks)\n",
    "\n",
    "# fig, ax = plt.subplots(ncols=2, nrows=1, figsize=(20,10))\n",
    "\n",
    "# ax[0].imshow(segment)\n",
    "# ax[0].set_title('brown: buildings, blue: shadows')\n",
    "# ax[0].set_axis_off()\n",
    "\n",
    "# ax[1].imshow(random_segment)\n",
    "# ax[1].set_title('random colors')\n",
    "# ax[1].set_axis_off()\n",
    "\n",
    "# plt.show()"
   ]
  },
  {
   "cell_type": "code",
   "execution_count": 20,
   "metadata": {},
   "outputs": [],
   "source": [
    "# rotated_image = rotate(image[0], ROTATE_ANGLE)\n",
    "# rotated_masks = rotate_masks(masks, ROTATE_ANGLE)\n",
    "\n",
    "# rotated_segment = draw_masks(rotated_image, rotated_masks, COLORS)\n",
    "# rotated_random_segment = draw_random_masks(rotated_image, rotated_masks)\n",
    "\n",
    "# fig, ax = plt.subplots(ncols=2, nrows=1, figsize=(20,10))\n",
    "\n",
    "# ax[0].imshow(rotated_segment)\n",
    "# ax[0].set_title('brown: buildings, blue: shadows (rotated)')\n",
    "# ax[0].set_axis_off()\n",
    "\n",
    "# ax[1].imshow(rotated_random_segment)\n",
    "# ax[1].set_title('rotated random colors')\n",
    "# ax[1].set_axis_off()\n",
    "\n",
    "# plt.show()"
   ]
  },
  {
   "cell_type": "code",
   "execution_count": 21,
   "metadata": {},
   "outputs": [
    {
     "name": "stdout",
     "output_type": "stream",
     "text": [
      "building_heights {0: 9.59, 1: 22.03, 2: 27.64, 7: 13.61, 10: 7.25, 11: 10.08, 14: 7.9, 15: 8.66}\n",
      "indices_shadows {0: (4364, 1426), 1: (4673, 2604), 2: (4401, 2602), 7: (4881, 957), 10: (4211, 705), 11: (4405, 2024), 14: (4384, 1633), 15: (4325, 1148)}\n",
      "building_heights_shadows {'building_heights': {3: [27.64], 4: [7.25], 5: [8.66], 6: [22.03], 8: [13.61], 9: [9.59], 12: [10.08], 13: [7.9]}, 'building_shadow': {3: [2], 4: [10], 5: [15], 6: [1], 8: [7], 9: [0], 12: [11], 13: [14]}}\n",
      "result_dict {3: {'mask': array([[0, 0, 0, ..., 0, 0, 0],\n",
      "       [0, 0, 0, ..., 0, 0, 0],\n",
      "       [0, 0, 0, ..., 0, 0, 0],\n",
      "       ...,\n",
      "       [0, 0, 0, ..., 0, 0, 0],\n",
      "       [0, 0, 0, ..., 0, 0, 0],\n",
      "       [0, 0, 0, ..., 0, 0, 0]], dtype=uint8), 'heights': [27.64]}, 4: {'mask': array([[0, 0, 0, ..., 0, 0, 0],\n",
      "       [0, 0, 0, ..., 0, 0, 0],\n",
      "       [0, 0, 0, ..., 0, 0, 0],\n",
      "       ...,\n",
      "       [0, 0, 0, ..., 0, 0, 0],\n",
      "       [0, 0, 0, ..., 0, 0, 0],\n",
      "       [0, 0, 0, ..., 0, 0, 0]], dtype=uint8), 'heights': [7.25]}, 5: {'mask': array([[0, 0, 0, ..., 0, 0, 0],\n",
      "       [0, 0, 0, ..., 0, 0, 0],\n",
      "       [0, 0, 0, ..., 0, 0, 0],\n",
      "       ...,\n",
      "       [0, 0, 0, ..., 0, 0, 0],\n",
      "       [0, 0, 0, ..., 0, 0, 0],\n",
      "       [0, 0, 0, ..., 0, 0, 0]], dtype=uint8), 'heights': [8.66]}, 6: {'mask': array([[0, 0, 0, ..., 0, 0, 0],\n",
      "       [0, 0, 0, ..., 0, 0, 0],\n",
      "       [0, 0, 0, ..., 0, 0, 0],\n",
      "       ...,\n",
      "       [0, 0, 0, ..., 0, 0, 0],\n",
      "       [0, 0, 0, ..., 0, 0, 0],\n",
      "       [0, 0, 0, ..., 0, 0, 0]], dtype=uint8), 'heights': [22.03]}, 8: {'mask': array([[0, 0, 0, ..., 0, 0, 0],\n",
      "       [0, 0, 0, ..., 0, 0, 0],\n",
      "       [0, 0, 0, ..., 0, 0, 0],\n",
      "       ...,\n",
      "       [0, 0, 0, ..., 1, 1, 1],\n",
      "       [0, 0, 0, ..., 1, 1, 1],\n",
      "       [0, 0, 0, ..., 1, 1, 1]], dtype=uint8), 'heights': [13.61]}, 9: {'mask': array([[0, 0, 0, ..., 0, 0, 0],\n",
      "       [0, 0, 0, ..., 0, 0, 0],\n",
      "       [0, 0, 0, ..., 0, 0, 0],\n",
      "       ...,\n",
      "       [0, 0, 0, ..., 0, 0, 0],\n",
      "       [0, 0, 0, ..., 0, 0, 0],\n",
      "       [0, 0, 0, ..., 0, 0, 0]], dtype=uint8), 'heights': [9.59]}, 12: {'mask': array([[0, 0, 0, ..., 0, 0, 0],\n",
      "       [0, 0, 0, ..., 0, 0, 0],\n",
      "       [0, 0, 0, ..., 0, 0, 0],\n",
      "       ...,\n",
      "       [0, 0, 0, ..., 0, 0, 0],\n",
      "       [0, 0, 0, ..., 0, 0, 0],\n",
      "       [0, 0, 0, ..., 0, 0, 0]], dtype=uint8), 'heights': [10.08]}, 13: {'mask': array([[0, 0, 0, ..., 0, 0, 0],\n",
      "       [0, 0, 0, ..., 0, 0, 0],\n",
      "       [0, 0, 0, ..., 0, 0, 0],\n",
      "       ...,\n",
      "       [0, 0, 0, ..., 0, 0, 0],\n",
      "       [0, 0, 0, ..., 0, 0, 0],\n",
      "       [0, 0, 0, ..., 0, 0, 0]], dtype=uint8), 'heights': [7.9]}}\n"
     ]
    }
   ],
   "source": [
    "# list of rotated masks shadows + buildings\n",
    "rotated_masks = rotate_masks(masks, ROTATE_ANGLE)\n",
    "\n",
    "# dict of heights {index of shadow: estimated height}\n",
    "building_heights = estimate_building_heights(masks, SUN_AZIMUTH_ANGLE, SCALE, SUN_ELEVATION_ANGLE)\n",
    "print('building_heights', building_heights)\n",
    "\n",
    "# dict {index of shadow: (max(y), mean(x))}\n",
    "indices_shadows = take_indices_shadows(rotated_masks)\n",
    "print('indices_shadows', indices_shadows)\n",
    "\n",
    "# dict {'building_heights': {index of building: [estimated heights]}, 'building_shadow': {index of building: [indices of shadows]}}\n",
    "building_heights_shadows = attach_heights(rotated_masks, building_heights, indices_shadows, THRESHOLD)\n",
    "print('building_heights_shadows', building_heights_shadows)\n",
    "\n",
    "result_dict = {}\n",
    "for idx_building, heights in building_heights_shadows['building_heights'].items():\n",
    "    result_dict[idx_building] = {'mask': masks[idx_building], 'heights': heights}\n",
    "\n",
    "print('result_dict', result_dict)"
   ]
  },
  {
   "cell_type": "code",
   "execution_count": 22,
   "metadata": {},
   "outputs": [],
   "source": [
    "hyperparameters = {'masks': masks,\n",
    "                'sun_azimuth_angle': SUN_AZIMUTH_ANGLE,\n",
    "                'scale': SCALE,\n",
    "                'sun_elevation_angle': SUN_ELEVATION_ANGLE,\n",
    "                'threshold': THRESHOLD\n",
    "                }"
   ]
  },
  {
   "cell_type": "code",
   "execution_count": 23,
   "metadata": {},
   "outputs": [
    {
     "name": "stdout",
     "output_type": "stream",
     "text": [
      "{3: {'mask': array([[0, 0, 0, ..., 0, 0, 0],\n",
      "       [0, 0, 0, ..., 0, 0, 0],\n",
      "       [0, 0, 0, ..., 0, 0, 0],\n",
      "       ...,\n",
      "       [0, 0, 0, ..., 0, 0, 0],\n",
      "       [0, 0, 0, ..., 0, 0, 0],\n",
      "       [0, 0, 0, ..., 0, 0, 0]], dtype=uint8), 'heights': [27.64]}, 4: {'mask': array([[0, 0, 0, ..., 0, 0, 0],\n",
      "       [0, 0, 0, ..., 0, 0, 0],\n",
      "       [0, 0, 0, ..., 0, 0, 0],\n",
      "       ...,\n",
      "       [0, 0, 0, ..., 0, 0, 0],\n",
      "       [0, 0, 0, ..., 0, 0, 0],\n",
      "       [0, 0, 0, ..., 0, 0, 0]], dtype=uint8), 'heights': [7.25]}, 5: {'mask': array([[0, 0, 0, ..., 0, 0, 0],\n",
      "       [0, 0, 0, ..., 0, 0, 0],\n",
      "       [0, 0, 0, ..., 0, 0, 0],\n",
      "       ...,\n",
      "       [0, 0, 0, ..., 0, 0, 0],\n",
      "       [0, 0, 0, ..., 0, 0, 0],\n",
      "       [0, 0, 0, ..., 0, 0, 0]], dtype=uint8), 'heights': [8.66]}, 6: {'mask': array([[0, 0, 0, ..., 0, 0, 0],\n",
      "       [0, 0, 0, ..., 0, 0, 0],\n",
      "       [0, 0, 0, ..., 0, 0, 0],\n",
      "       ...,\n",
      "       [0, 0, 0, ..., 0, 0, 0],\n",
      "       [0, 0, 0, ..., 0, 0, 0],\n",
      "       [0, 0, 0, ..., 0, 0, 0]], dtype=uint8), 'heights': [22.03]}, 8: {'mask': array([[0, 0, 0, ..., 0, 0, 0],\n",
      "       [0, 0, 0, ..., 0, 0, 0],\n",
      "       [0, 0, 0, ..., 0, 0, 0],\n",
      "       ...,\n",
      "       [0, 0, 0, ..., 1, 1, 1],\n",
      "       [0, 0, 0, ..., 1, 1, 1],\n",
      "       [0, 0, 0, ..., 1, 1, 1]], dtype=uint8), 'heights': [13.61]}, 9: {'mask': array([[0, 0, 0, ..., 0, 0, 0],\n",
      "       [0, 0, 0, ..., 0, 0, 0],\n",
      "       [0, 0, 0, ..., 0, 0, 0],\n",
      "       ...,\n",
      "       [0, 0, 0, ..., 0, 0, 0],\n",
      "       [0, 0, 0, ..., 0, 0, 0],\n",
      "       [0, 0, 0, ..., 0, 0, 0]], dtype=uint8), 'heights': [9.59]}, 12: {'mask': array([[0, 0, 0, ..., 0, 0, 0],\n",
      "       [0, 0, 0, ..., 0, 0, 0],\n",
      "       [0, 0, 0, ..., 0, 0, 0],\n",
      "       ...,\n",
      "       [0, 0, 0, ..., 0, 0, 0],\n",
      "       [0, 0, 0, ..., 0, 0, 0],\n",
      "       [0, 0, 0, ..., 0, 0, 0]], dtype=uint8), 'heights': [10.08]}, 13: {'mask': array([[0, 0, 0, ..., 0, 0, 0],\n",
      "       [0, 0, 0, ..., 0, 0, 0],\n",
      "       [0, 0, 0, ..., 0, 0, 0],\n",
      "       ...,\n",
      "       [0, 0, 0, ..., 0, 0, 0],\n",
      "       [0, 0, 0, ..., 0, 0, 0],\n",
      "       [0, 0, 0, ..., 0, 0, 0]], dtype=uint8), 'heights': [7.9]}}\n"
     ]
    }
   ],
   "source": [
    "build_info = buildings_info(hyperparameters)\n",
    "print(build_info)"
   ]
  },
  {
   "cell_type": "code",
   "execution_count": 25,
   "metadata": {},
   "outputs": [
    {
     "ename": "ValueError",
     "evalue": "operands could not be broadcast together with shapes (5029,3287,3) (3,) (2170,1332,3) ",
     "output_type": "error",
     "traceback": [
      "\u001b[1;31m---------------------------------------------------------------------------\u001b[0m",
      "\u001b[1;31mValueError\u001b[0m                                Traceback (most recent call last)",
      "Cell \u001b[1;32mIn[25], line 1\u001b[0m\n\u001b[1;32m----> 1\u001b[0m sample_segment \u001b[38;5;241m=\u001b[39m \u001b[43mdraw_sample_building_shadow\u001b[49m\u001b[43m(\u001b[49m\u001b[43mrotated_image\u001b[49m\u001b[43m,\u001b[49m\u001b[43m \u001b[49m\u001b[43mrotated_masks\u001b[49m\u001b[43m,\u001b[49m\u001b[43m \u001b[49m\u001b[43mbuilding_heights_shadows\u001b[49m\u001b[43m[\u001b[49m\u001b[38;5;124;43m'\u001b[39;49m\u001b[38;5;124;43mbuilding_shadow\u001b[39;49m\u001b[38;5;124;43m'\u001b[39;49m\u001b[43m]\u001b[49m\u001b[43m,\u001b[49m\u001b[43m \u001b[49m\u001b[43mCOLORS\u001b[49m\u001b[43m)\u001b[49m\n\u001b[0;32m      3\u001b[0m fig, ax \u001b[38;5;241m=\u001b[39m plt\u001b[38;5;241m.\u001b[39msubplots(ncols\u001b[38;5;241m=\u001b[39m\u001b[38;5;241m1\u001b[39m, nrows\u001b[38;5;241m=\u001b[39m\u001b[38;5;241m1\u001b[39m, figsize\u001b[38;5;241m=\u001b[39m(\u001b[38;5;241m10\u001b[39m,\u001b[38;5;241m10\u001b[39m))\n\u001b[0;32m      5\u001b[0m ax\u001b[38;5;241m.\u001b[39mimshow(sample_segment)\n",
      "File \u001b[1;32mc:\\Users\\Сидянив\\Desktop\\Работа\\shadow-based-height-estimator\\src\\visualization_masks.py:51\u001b[0m, in \u001b[0;36mdraw_sample_building_shadow\u001b[1;34m(image, masks, building_shadow, colors)\u001b[0m\n\u001b[0;32m     48\u001b[0m key \u001b[38;5;241m=\u001b[39m random\u001b[38;5;241m.\u001b[39mchoice(\u001b[38;5;28mlist\u001b[39m(building_shadow\u001b[38;5;241m.\u001b[39mkeys()))  \u001b[38;5;66;03m# noqa: S311\u001b[39;00m\n\u001b[0;32m     49\u001b[0m blank \u001b[38;5;241m=\u001b[39m masks[key][:, :, np\u001b[38;5;241m.\u001b[39mnewaxis]\n\u001b[1;32m---> 51\u001b[0m masked_image \u001b[38;5;241m=\u001b[39m \u001b[43mnp\u001b[49m\u001b[38;5;241;43m.\u001b[39;49m\u001b[43mwhere\u001b[49m\u001b[43m(\u001b[49m\n\u001b[0;32m     52\u001b[0m \u001b[43m    \u001b[49m\u001b[38;5;66;43;03m# перебираем элементы np.repeat(blank, 3, axis=2) и если значение элемента true, то на выходе получим соответствующий элемент np.asarray(colors[0], dtype='uint8')\u001b[39;49;00m\n\u001b[0;32m     53\u001b[0m \u001b[43m    \u001b[49m\u001b[43mnp\u001b[49m\u001b[38;5;241;43m.\u001b[39;49m\u001b[43mrepeat\u001b[49m\u001b[43m(\u001b[49m\u001b[43mblank\u001b[49m\u001b[43m,\u001b[49m\u001b[43m \u001b[49m\u001b[38;5;241;43m3\u001b[39;49m\u001b[43m,\u001b[49m\u001b[43m \u001b[49m\u001b[43maxis\u001b[49m\u001b[38;5;241;43m=\u001b[39;49m\u001b[38;5;241;43m2\u001b[39;49m\u001b[43m)\u001b[49m\u001b[43m,\u001b[49m\n\u001b[0;32m     54\u001b[0m \u001b[43m    \u001b[49m\u001b[43mnp\u001b[49m\u001b[38;5;241;43m.\u001b[39;49m\u001b[43masarray\u001b[49m\u001b[43m(\u001b[49m\u001b[43mcolors\u001b[49m\u001b[43m[\u001b[49m\u001b[38;5;241;43m0\u001b[39;49m\u001b[43m]\u001b[49m\u001b[43m,\u001b[49m\u001b[43m \u001b[49m\u001b[43mdtype\u001b[49m\u001b[38;5;241;43m=\u001b[39;49m\u001b[38;5;124;43m'\u001b[39;49m\u001b[38;5;124;43muint8\u001b[39;49m\u001b[38;5;124;43m'\u001b[39;49m\u001b[43m)\u001b[49m\u001b[43m,\u001b[49m\n\u001b[0;32m     55\u001b[0m \u001b[43m    \u001b[49m\u001b[43mmasked_image\u001b[49m\u001b[43m,\u001b[49m\n\u001b[0;32m     56\u001b[0m \u001b[43m\u001b[49m\u001b[43m)\u001b[49m\n\u001b[0;32m     58\u001b[0m \u001b[38;5;28;01mif\u001b[39;00m building_shadow[key]:\n\u001b[0;32m     59\u001b[0m     \u001b[38;5;28;01mfor\u001b[39;00m mask_idx \u001b[38;5;129;01min\u001b[39;00m building_shadow[key]:\n",
      "\u001b[1;31mValueError\u001b[0m: operands could not be broadcast together with shapes (5029,3287,3) (3,) (2170,1332,3) "
     ]
    }
   ],
   "source": [
    "sample_segment = draw_sample_building_shadow(rotated_image, rotated_masks, building_heights_shadows['building_shadow'], COLORS)\n",
    "\n",
    "fig, ax = plt.subplots(ncols=1, nrows=1, figsize=(10,10))\n",
    "\n",
    "ax.imshow(sample_segment)\n",
    "ax.set_title('brown: buildings, blue: shadows (sample of building+shadow)')\n",
    "ax.set_axis_off()\n",
    "\n",
    "plt.show()"
   ]
  }
 ],
 "metadata": {
  "kernelspec": {
   "display_name": "Python 3 (ipykernel)",
   "language": "python",
   "name": "python3"
  },
  "language_info": {
   "codemirror_mode": {
    "name": "ipython",
    "version": 3
   },
   "file_extension": ".py",
   "mimetype": "text/x-python",
   "name": "python",
   "nbconvert_exporter": "python",
   "pygments_lexer": "ipython3",
   "version": "3.11.8"
  }
 },
 "nbformat": 4,
 "nbformat_minor": 4
}
