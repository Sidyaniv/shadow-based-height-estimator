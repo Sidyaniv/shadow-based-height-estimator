{
 "cells": [
  {
   "cell_type": "code",
   "execution_count": null,
   "metadata": {},
   "outputs": [],
   "source": [
    "import matplotlib.pyplot as plt\n",
    "from scipy.ndimage import rotate\n",
    "from src.shadow_height_estimator import (estimate_building_heights,\n",
    "                                        rotate_masks,\n",
    "                                        take_indices_shadows,\n",
    "                                        attach_heights, \n",
    "                                        buildings_info,\n",
    "                                        )\n",
    "from src.visualization_masks import (draw_masks,\n",
    "                                    draw_random_masks,\n",
    "                                    draw_sample_building_shadow,\n",
    "                                    )\n",
    "from src.coco2masks.coco2masks import coco2masks\n",
    "import numpy as np"
   ]
  },
  {
   "cell_type": "markdown",
   "metadata": {},
   "source": [
    "dataset_dir = '../../../shared_data/SatelliteTo3D-Datasets/3d_tools_dataset/'\n",
    "annot_file = dataset_dir + 'annotations/instances_default.json'\n",
    "images_directory = dataset_dir + 'image_png/'"
   ]
  },
  {
   "cell_type": "markdown",
   "metadata": {},
   "source": [
    "SCALE = np.float16(0.1)\n",
    "SUN_AZIMUTH_ANGLE = np.uint8(100)\n",
    "SUN_ELEVATION_ANGLE = np.uint8(30)\n",
    "ROTATE_ANGLE = SUN_AZIMUTH_ANGLE - 180\n",
    "THRESHOLD = np.uint8(7)\n",
    "BROWN = (np.uint8(128), np.uint8(64), np.uint8(48))\n",
    "BLUE = (np.uint8(0), np.uint8(0), np.uint8(255))\n",
    "COLORS = np.array([BROWN, BLUE])"
   ]
  },
  {
   "cell_type": "markdown",
   "metadata": {},
   "source": [
    "image, masks = coco2masks(coco_annotation_file=annot_file, images_directory=images_directory)"
   ]
  },
  {
   "cell_type": "markdown",
   "metadata": {},
   "source": [
    "segment = draw_masks(image[0], masks, COLORS)\n",
    "random_segment = draw_random_masks(image[0], masks)\n",
    "\n",
    "fig, ax = plt.subplots(ncols=2, nrows=1, figsize=(20,10))\n",
    "\n",
    "ax[0].imshow(segment)\n",
    "ax[0].set_title('brown: buildings, blue: shadows')\n",
    "ax[0].set_axis_off()\n",
    "\n",
    "ax[1].imshow(random_segment)\n",
    "ax[1].set_title('random colors')\n",
    "ax[1].set_axis_off()\n",
    "\n",
    "plt.show()"
   ]
  },
  {
   "cell_type": "markdown",
   "metadata": {},
   "source": [
    "rotated_image = rotate(image[0], ROTATE_ANGLE)\n",
    "rotated_masks = rotate_masks(masks, ROTATE_ANGLE)\n",
    "\n",
    "rotated_segment = draw_masks(rotated_image, rotated_masks, COLORS)\n",
    "rotated_random_segment = draw_random_masks(rotated_image, rotated_masks)\n",
    "\n",
    "fig, ax = plt.subplots(ncols=2, nrows=1, figsize=(20,10))\n",
    "\n",
    "ax[0].imshow(rotated_segment)\n",
    "ax[0].set_title('brown: buildings, blue: shadows (rotated)')\n",
    "ax[0].set_axis_off()\n",
    "\n",
    "ax[1].imshow(rotated_random_segment)\n",
    "ax[1].set_title('rotated random colors')\n",
    "ax[1].set_axis_off()\n",
    "\n",
    "plt.show()"
   ]
  },
  {
   "cell_type": "markdown",
   "metadata": {},
   "source": [
    "# list of rotated masks shadows + buildings\n",
    "rotated_masks = rotate_masks(masks, ROTATE_ANGLE)\n",
    "\n",
    "# dict of heights {index of shadow: estimated height}\n",
    "building_heights = estimate_building_heights(masks, SUN_AZIMUTH_ANGLE, SCALE, SUN_ELEVATION_ANGLE)\n",
    "print('building_heights', building_heights)\n",
    "\n",
    "# dict {index of shadow: (max(y), mean(x))}\n",
    "indices_shadows = take_indices_shadows(rotated_masks)\n",
    "print('indices_shadows', indices_shadows)\n",
    "\n",
    "# dict {'building_heights': {index of building: [estimated heights]}, 'building_shadow': {index of building: [indices of shadows]}}\n",
    "building_heights_shadows = attach_heights(rotated_masks, building_heights, indices_shadows, THRESHOLD)\n",
    "print('building_heights_shadows', building_heights_shadows)\n",
    "\n",
    "result_dict = {}\n",
    "for idx_building, heights in building_heights_shadows['building_heights'].items():\n",
    "    result_dict[idx_building] = {'mask': masks[idx_building], 'heights': heights}\n",
    "\n",
    "print('result_dict', result_dict)"
   ]
  },
  {
   "cell_type": "markdown",
   "metadata": {},
   "source": [
    "building_heights {0: 9.59, 1: 22.03, 2: 27.64, 7: 13.61, 10: 7.25, 11: 10.08, 14: 7.9, 15: 8.66}\n",
    "indices_shadows {0: (4364, 1426), 1: (4673, 2604), 2: (4401, 2602), 7: (4881, 957), 10: (4211, 705), 11: (4405, 2024), 14: (4384, 1633), 15: (4325, 1148)}\n",
    "building_heights_shadows {'building_heights': {3: [27.64], 4: [7.25], 5: [8.66], 6: [22.03], 8: [13.61], 9: [9.59], 12: [10.08], 13: [7.9]}, 'building_shadow': {3: [2], 4: [10], 5: [15], 6: [1], 8: [7], 9: [0], 12: [11], 13: [14]}}\n",
    "result_dict {3: {'mask': array([[0, 0, 0, ..., 0, 0, 0],\n",
    "       [0, 0, 0, ..., 0, 0, 0],\n",
    "       [0, 0, 0, ..., 0, 0, 0],\n",
    "       ...,\n",
    "       [0, 0, 0, ..., 0, 0, 0],\n",
    "       [0, 0, 0, ..., 0, 0, 0],\n",
    "       [0, 0, 0, ..., 0, 0, 0]], dtype=uint8), 'heights': [27.64]}, 4: {'mask': array([[0, 0, 0, ..., 0, 0, 0],\n",
    "       [0, 0, 0, ..., 0, 0, 0],\n",
    "       [0, 0, 0, ..., 0, 0, 0],\n",
    "       ...,\n",
    "       [0, 0, 0, ..., 0, 0, 0],\n",
    "       [0, 0, 0, ..., 0, 0, 0],\n",
    "       [0, 0, 0, ..., 0, 0, 0]], dtype=uint8), 'heights': [7.25]}, 5: {'mask': array([[0, 0, 0, ..., 0, 0, 0],\n",
    "       [0, 0, 0, ..., 0, 0, 0],\n",
    "       [0, 0, 0, ..., 0, 0, 0],\n",
    "       ...,\n",
    "       [0, 0, 0, ..., 0, 0, 0],\n",
    "       [0, 0, 0, ..., 0, 0, 0],\n",
    "       [0, 0, 0, ..., 0, 0, 0]], dtype=uint8), 'heights': [8.66]}, 6: {'mask': array([[0, 0, 0, ..., 0, 0, 0],\n",
    "       [0, 0, 0, ..., 0, 0, 0],\n",
    "       [0, 0, 0, ..., 0, 0, 0],\n",
    "       ...,\n",
    "       [0, 0, 0, ..., 0, 0, 0],\n",
    "       [0, 0, 0, ..., 0, 0, 0],\n",
    "       [0, 0, 0, ..., 0, 0, 0]], dtype=uint8), 'heights': [22.03]}, 8: {'mask': array([[0, 0, 0, ..., 0, 0, 0],\n",
    "       [0, 0, 0, ..., 0, 0, 0],\n",
    "       [0, 0, 0, ..., 0, 0, 0],\n",
    "       ...,\n",
    "       [0, 0, 0, ..., 1, 1, 1],\n",
    "       [0, 0, 0, ..., 1, 1, 1],\n",
    "       [0, 0, 0, ..., 1, 1, 1]], dtype=uint8), 'heights': [13.61]}, 9: {'mask': array([[0, 0, 0, ..., 0, 0, 0],\n",
    "       [0, 0, 0, ..., 0, 0, 0],\n",
    "       [0, 0, 0, ..., 0, 0, 0],\n",
    "       ...,\n",
    "       [0, 0, 0, ..., 0, 0, 0],\n",
    "       [0, 0, 0, ..., 0, 0, 0],\n",
    "       [0, 0, 0, ..., 0, 0, 0]], dtype=uint8), 'heights': [9.59]}, 12: {'mask': array([[0, 0, 0, ..., 0, 0, 0],\n",
    "       [0, 0, 0, ..., 0, 0, 0],\n",
    "       [0, 0, 0, ..., 0, 0, 0],\n",
    "       ...,\n",
    "       [0, 0, 0, ..., 0, 0, 0],\n",
    "       [0, 0, 0, ..., 0, 0, 0],\n",
    "       [0, 0, 0, ..., 0, 0, 0]], dtype=uint8), 'heights': [10.08]}, 13: {'mask': array([[0, 0, 0, ..., 0, 0, 0],\n",
    "       [0, 0, 0, ..., 0, 0, 0],\n",
    "       [0, 0, 0, ..., 0, 0, 0],\n",
    "       ...,\n",
    "       [0, 0, 0, ..., 0, 0, 0],\n",
    "       [0, 0, 0, ..., 0, 0, 0],\n",
    "       [0, 0, 0, ..., 0, 0, 0]], dtype=uint8), 'heights': [7.9]}}"
   ]
  },
  {
   "cell_type": "markdown",
   "metadata": {},
   "source": [
    "hyperparameters = {'masks': masks,\n",
    "                'sun_azimuth_angle': SUN_AZIMUTH_ANGLE,\n",
    "                'scale': SCALE,\n",
    "                'sun_elevation_angle': SUN_ELEVATION_ANGLE,\n",
    "                'threshold': THRESHOLD\n",
    "                }"
   ]
  },
  {
   "cell_type": "markdown",
   "metadata": {},
   "source": [
    "build_info = buildings_info(hyperparameters)\n",
    "print(build_info)"
   ]
  },
  {
   "cell_type": "markdown",
   "metadata": {},
   "source": [
    "{3: {'mask': array([[0, 0, 0, ..., 0, 0, 0],\n",
    "       [0, 0, 0, ..., 0, 0, 0],\n",
    "       [0, 0, 0, ..., 0, 0, 0],\n",
    "       ...,\n",
    "       [0, 0, 0, ..., 0, 0, 0],\n",
    "       [0, 0, 0, ..., 0, 0, 0],\n",
    "       [0, 0, 0, ..., 0, 0, 0]], dtype=uint8), 'heights': [27.64]}, 4: {'mask': array([[0, 0, 0, ..., 0, 0, 0],\n",
    "       [0, 0, 0, ..., 0, 0, 0],\n",
    "       [0, 0, 0, ..., 0, 0, 0],\n",
    "       ...,\n",
    "       [0, 0, 0, ..., 0, 0, 0],\n",
    "       [0, 0, 0, ..., 0, 0, 0],\n",
    "       [0, 0, 0, ..., 0, 0, 0]], dtype=uint8), 'heights': [7.25]}, 5: {'mask': array([[0, 0, 0, ..., 0, 0, 0],\n",
    "       [0, 0, 0, ..., 0, 0, 0],\n",
    "       [0, 0, 0, ..., 0, 0, 0],\n",
    "       ...,\n",
    "       [0, 0, 0, ..., 0, 0, 0],\n",
    "       [0, 0, 0, ..., 0, 0, 0],\n",
    "       [0, 0, 0, ..., 0, 0, 0]], dtype=uint8), 'heights': [8.66]}, 6: {'mask': array([[0, 0, 0, ..., 0, 0, 0],\n",
    "       [0, 0, 0, ..., 0, 0, 0],\n",
    "       [0, 0, 0, ..., 0, 0, 0],\n",
    "       ...,\n",
    "       [0, 0, 0, ..., 0, 0, 0],\n",
    "       [0, 0, 0, ..., 0, 0, 0],\n",
    "       [0, 0, 0, ..., 0, 0, 0]], dtype=uint8), 'heights': [22.03]}, 8: {'mask': array([[0, 0, 0, ..., 0, 0, 0],\n",
    "       [0, 0, 0, ..., 0, 0, 0],\n",
    "       [0, 0, 0, ..., 0, 0, 0],\n",
    "       ...,\n",
    "       [0, 0, 0, ..., 1, 1, 1],\n",
    "       [0, 0, 0, ..., 1, 1, 1],\n",
    "       [0, 0, 0, ..., 1, 1, 1]], dtype=uint8), 'heights': [13.61]}, 9: {'mask': array([[0, 0, 0, ..., 0, 0, 0],\n",
    "       [0, 0, 0, ..., 0, 0, 0],\n",
    "       [0, 0, 0, ..., 0, 0, 0],\n",
    "       ...,\n",
    "       [0, 0, 0, ..., 0, 0, 0],\n",
    "       [0, 0, 0, ..., 0, 0, 0],\n",
    "       [0, 0, 0, ..., 0, 0, 0]], dtype=uint8), 'heights': [9.59]}, 12: {'mask': array([[0, 0, 0, ..., 0, 0, 0],\n",
    "       [0, 0, 0, ..., 0, 0, 0],\n",
    "       [0, 0, 0, ..., 0, 0, 0],\n",
    "       ...,\n",
    "       [0, 0, 0, ..., 0, 0, 0],\n",
    "       [0, 0, 0, ..., 0, 0, 0],\n",
    "       [0, 0, 0, ..., 0, 0, 0]], dtype=uint8), 'heights': [10.08]}, 13: {'mask': array([[0, 0, 0, ..., 0, 0, 0],\n",
    "       [0, 0, 0, ..., 0, 0, 0],\n",
    "       [0, 0, 0, ..., 0, 0, 0],\n",
    "       ...,\n",
    "       [0, 0, 0, ..., 0, 0, 0],\n",
    "       [0, 0, 0, ..., 0, 0, 0],\n",
    "       [0, 0, 0, ..., 0, 0, 0]], dtype=uint8), 'heights': [7.9]}}"
   ]
  },
  {
   "cell_type": "markdown",
   "metadata": {},
   "source": [
    "sample_segment = draw_sample_building_shadow(rotated_image, rotated_masks, building_heights_shadows['building_shadow'], COLORS)\n",
    "\n",
    "fig, ax = plt.subplots(ncols=1, nrows=1, figsize=(10,10))\n",
    "\n",
    "ax.imshow(sample_segment)\n",
    "ax.set_title('brown: buildings, blue: shadows (sample of building+shadow)')\n",
    "ax.set_axis_off()\n",
    "\n",
    "plt.show()"
   ]
  }
 ],
 "metadata": {
  "kernelspec": {
   "display_name": "Python 3 (ipykernel)",
   "language": "python",
   "name": "python3"
  },
  "language_info": {
   "codemirror_mode": {
    "name": "ipython",
    "version": 3
   },
   "file_extension": ".py",
   "mimetype": "text/x-python",
   "name": "python",
   "nbconvert_exporter": "python",
   "pygments_lexer": "ipython3",
   "version": "3.12.2"
  }
 },
 "nbformat": 4,
 "nbformat_minor": 4
}
